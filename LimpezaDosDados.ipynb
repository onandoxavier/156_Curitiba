{
 "cells": [
  {
   "cell_type": "code",
   "execution_count": 34,
   "metadata": {
    "collapsed": true
   },
   "outputs": [],
   "source": [
    "import pandas as pd\n",
    "from unidecode import unidecode\n",
    "import time"
   ]
  },
  {
   "cell_type": "code",
   "execution_count": 4,
   "metadata": {
    "collapsed": false,
    "pycharm": {
     "name": "#%%\n"
    }
   },
   "outputs": [],
   "source": [
    "historic = pd.read_csv('pipeline_historic.csv', sep=';')"
   ]
  },
  {
   "cell_type": "code",
   "execution_count": 5,
   "metadata": {
    "collapsed": false,
    "pycharm": {
     "name": "#%%\n"
    }
   },
   "outputs": [],
   "source": [
    "links = historic['link'].tolist()"
   ]
  },
  {
   "cell_type": "code",
   "execution_count": 6,
   "metadata": {
    "collapsed": false,
    "pycharm": {
     "name": "#%%\n"
    }
   },
   "outputs": [],
   "source": [
    "links = [x for x in links if x[:4] == '2021']"
   ]
  },
  {
   "cell_type": "code",
   "execution_count": null,
   "metadata": {
    "collapsed": false,
    "pycharm": {
     "name": "#%%\n"
    }
   },
   "outputs": [],
   "source": [
    "links"
   ]
  },
  {
   "cell_type": "code",
   "execution_count": 8,
   "metadata": {
    "collapsed": false,
    "pycharm": {
     "name": "#%%\n"
    }
   },
   "outputs": [],
   "source": [
    "df_columns = pd.read_csv('raw_data/'+links[0], sep=';', nrows=1)\n",
    "col_names = df_columns.columns.tolist()\n",
    "col_names.append('EXTRA')"
   ]
  },
  {
   "cell_type": "code",
   "execution_count": null,
   "metadata": {
    "collapsed": false,
    "pycharm": {
     "name": "#%%\n"
    }
   },
   "outputs": [],
   "source": [
    "small_dfs = []\n",
    "soma = 0\n",
    "for link in links:\n",
    "    small_df = pd.read_csv('raw_data/' + link, sep=';', skiprows=2, names=col_names)\n",
    "    print(len(small_df))\n",
    "    soma+=len(small_df)\n",
    "    small_dfs.append(small_df)\n",
    "print(soma)"
   ]
  },
  {
   "cell_type": "code",
   "execution_count": 10,
   "metadata": {
    "collapsed": false,
    "pycharm": {
     "name": "#%%\n"
    }
   },
   "outputs": [],
   "source": [
    "large_df = pd.concat(small_dfs, ignore_index=True)"
   ]
  },
  {
   "cell_type": "code",
   "execution_count": 11,
   "metadata": {
    "collapsed": false,
    "pycharm": {
     "name": "#%%\n"
    }
   },
   "outputs": [
    {
     "data": {
      "text/plain": [
       "297584"
      ]
     },
     "execution_count": 11,
     "metadata": {},
     "output_type": "execute_result"
    }
   ],
   "source": [
    "len(large_df)"
   ]
  },
  {
   "cell_type": "code",
   "execution_count": 12,
   "metadata": {
    "collapsed": false,
    "pycharm": {
     "name": "#%%\n"
    }
   },
   "outputs": [],
   "source": [
    "large_df['SOLICITACAO'] = large_df[',SOLICITACAO'].str[-7:]"
   ]
  },
  {
   "cell_type": "code",
   "execution_count": 13,
   "metadata": {
    "collapsed": false,
    "pycharm": {
     "name": "#%%\n"
    }
   },
   "outputs": [
    {
     "name": "stderr",
     "output_type": "stream",
     "text": [
      "C:\\Users\\fer-x\\AppData\\Local\\Temp/ipykernel_36536/1612963592.py:1: FutureWarning: In a future version of pandas all arguments of DataFrame.drop except for the argument 'labels' will be keyword-only\n",
      "  large_df = large_df.drop(',SOLICITACAO', 1)\n"
     ]
    }
   ],
   "source": [
    "large_df = large_df.drop(',SOLICITACAO', 1)"
   ]
  },
  {
   "cell_type": "code",
   "execution_count": 14,
   "metadata": {},
   "outputs": [],
   "source": [
    "large_df['LOGRADOURO'] = [str(x).split(',')[0] for x in large_df['LOGRADOURO_ASS']]"
   ]
  },
  {
   "cell_type": "code",
   "execution_count": 15,
   "metadata": {},
   "outputs": [],
   "source": [
    "large_df['NUMBER'] = [str(x).split(',')[1] if len(str(x).split(',')) > 1 else '' for x in large_df['LOGRADOURO_ASS']]"
   ]
  },
  {
   "cell_type": "code",
   "execution_count": 16,
   "metadata": {
    "collapsed": false,
    "pycharm": {
     "name": "#%%\n"
    }
   },
   "outputs": [],
   "source": [
    "large_df['DATA'] = pd.to_datetime(large_df['DATA'])"
   ]
  },
  {
   "cell_type": "code",
   "execution_count": 17,
   "metadata": {
    "collapsed": false,
    "pycharm": {
     "name": "#%%\n"
    }
   },
   "outputs": [],
   "source": [
    "large_df = large_df.loc[(large_df['DATA'] >= '2021-01-01') & (large_df['DATA'] < '2022-01-01')]"
   ]
  },
  {
   "cell_type": "code",
   "execution_count": 18,
   "metadata": {
    "collapsed": false,
    "pycharm": {
     "name": "#%%\n"
    }
   },
   "outputs": [],
   "source": [
    "large_df['ASSUNTO'] = large_df['ASSUNTO'].apply(lambda x: unidecode(str(x)).strip().upper())"
   ]
  },
  {
   "cell_type": "code",
   "execution_count": 73,
   "metadata": {},
   "outputs": [],
   "source": [
    "large_df.to_csv('compilado_2021.csv', sep=';', encoding='utf-8')"
   ]
  },
  {
   "attachments": {},
   "cell_type": "markdown",
   "metadata": {},
   "source": [
    "# Enviando dataframe para o googleSpreadsheet"
   ]
  },
  {
   "cell_type": "code",
   "execution_count": 20,
   "metadata": {},
   "outputs": [
    {
     "data": {
      "text/plain": [
       "0"
      ]
     },
     "execution_count": 20,
     "metadata": {},
     "output_type": "execute_result"
    }
   ],
   "source": [
    "# https://medium.com/@jb.ranchana/write-and-append-dataframes-to-google-sheets-in-python-f62479460cf0\n",
    "# Imports necessarios para instalar os modulos usados no codigo caso ainda não tenha instalado\n",
    "# import sys, subprocess\n",
    "# subprocess.check_call([sys.executable, '-m', 'pip', 'install', 'gspread'])\n",
    "# subprocess.check_call([sys.executable, '-m', 'pip', 'install', 'gspread_dataframe'])\n",
    "# subprocess.check_call([sys.executable, '-m', 'pip', 'install', 'pydrive'])"
   ]
  },
  {
   "cell_type": "code",
   "execution_count": 2,
   "metadata": {},
   "outputs": [],
   "source": [
    "import gspread\n",
    "from gspread_dataframe import set_with_dataframe\n",
    "from google.oauth2.service_account import Credentials\n",
    "from pydrive.auth import GoogleAuth\n",
    "from pydrive.drive import GoogleDrive\n",
    "scopes = ['https://www.googleapis.com/auth/spreadsheets',\n",
    "          'https://www.googleapis.com/auth/drive']"
   ]
  },
  {
   "cell_type": "code",
   "execution_count": 3,
   "metadata": {},
   "outputs": [],
   "source": [
    "credentials = Credentials.from_service_account_file('curibita156credentials.json', scopes=scopes)\n",
    "\n",
    "gc = gspread.authorize(credentials)\n",
    "\n",
    "gauth = GoogleAuth()\n",
    "drive = GoogleDrive(gauth)\n",
    "\n",
    "# open a google sheet\n",
    "gs = gc.open_by_key('1UzTqciM1ACaBUYIt0P-MMHFHEbIux_ataERiDvdp3Ts')\n",
    "# select a work sheet from its name\n",
    "worksheet1 = gs.worksheet('Página1')"
   ]
  },
  {
   "cell_type": "code",
   "execution_count": null,
   "metadata": {},
   "outputs": [],
   "source": [
    "## bloco de exemplo\n",
    "# dataframe (create or import it)\n",
    "#df = pd.DataFrame({'a': ['pple','airplane','alligato'], 'b': ['banana', 'ball', 'butterfly'], 'c': ['cantaloupe', 'crane', 'cat']})\n",
    "# write to dataframe\n",
    "# worksheet1.clear()\n",
    "# set_with_dataframe(worksheet=worksheet1, dataframe=large_df, include_index=False,\n",
    "# include_column_header=True, resize=True)"
   ]
  },
  {
   "cell_type": "code",
   "execution_count": 11,
   "metadata": {},
   "outputs": [
    {
     "data": {
      "text/plain": [
       "{'spreadsheetId': '1UzTqciM1ACaBUYIt0P-MMHFHEbIux_ataERiDvdp3Ts',\n",
       " 'clearedRange': \"'Página1'!A1:X268900\"}"
      ]
     },
     "execution_count": 11,
     "metadata": {},
     "output_type": "execute_result"
    }
   ],
   "source": [
    "worksheet1.clear()"
   ]
  },
  {
   "cell_type": "code",
   "execution_count": 38,
   "metadata": {},
   "outputs": [],
   "source": [
    "large_df_test = large_df.fillna('')\n",
    "large_df_test['DATA'] = large_df_test['DATA'].astype(str)"
   ]
  },
  {
   "cell_type": "code",
   "execution_count": null,
   "metadata": {},
   "outputs": [],
   "source": [
    "## Arquivo muito grande, nao rola enviar de uma vez\n",
    "#worksheet1.update([large_df_test.columns.values.tolist()] + large_df_test.values.tolist())"
   ]
  },
  {
   "cell_type": "code",
   "execution_count": 39,
   "metadata": {},
   "outputs": [],
   "source": [
    "large_df_test = large_df_test#.iloc[0:10000]"
   ]
  },
  {
   "cell_type": "code",
   "execution_count": 40,
   "metadata": {},
   "outputs": [
    {
     "data": {
      "text/plain": [
       "268899"
      ]
     },
     "execution_count": 40,
     "metadata": {},
     "output_type": "execute_result"
    }
   ],
   "source": [
    "len(large_df_test)"
   ]
  },
  {
   "cell_type": "code",
   "execution_count": 35,
   "metadata": {},
   "outputs": [
    {
     "data": {
      "text/plain": [
       "{'spreadsheetId': '1UzTqciM1ACaBUYIt0P-MMHFHEbIux_ataERiDvdp3Ts',\n",
       " 'clearedRange': \"'Página1'!A1:X268900\"}"
      ]
     },
     "execution_count": 35,
     "metadata": {},
     "output_type": "execute_result"
    }
   ],
   "source": [
    "worksheet1.clear()"
   ]
  },
  {
   "attachments": {},
   "cell_type": "markdown",
   "metadata": {},
   "source": [
    "Como o arquivo é muito grande, fiz um looping para enviar as linhas aos poucos para o google spreadsheet\n",
    "inseri um intervalo entre as requisições para não ultrapassar as cotas de requisição por minuto e por usuario\n",
    "essas informações estao disponiveis n console.cloud.gogle.com/apis na aba de \"APIs e serviços ativados\""
   ]
  },
  {
   "cell_type": "code",
   "execution_count": null,
   "metadata": {},
   "outputs": [],
   "source": [
    "i = 0\n",
    "j = 2000\n",
    "#n = len(large_df_test)\n",
    "n = len(large_df_test)\n",
    "worksheet1.update([large_df_test.columns.values.tolist()])\n",
    "while i < n:\n",
    "    print(i)\n",
    "\n",
    "    if i+j > n:\n",
    "        j = n - i\n",
    "    \n",
    "    df_split = large_df_test.iloc[i:i+j]\n",
    "    df_values = df_split.values.tolist()\n",
    "    gs.values_append('Página1', {'valueInputOption': 'RAW'}, {'values': df_values})\n",
    "    i = i+j    \n",
    "    time.sleep(2.4)\n",
    "\n"
   ]
  }
 ],
 "metadata": {
  "kernelspec": {
   "display_name": "Python 3.9.7 ('base')",
   "language": "python",
   "name": "python3"
  },
  "language_info": {
   "codemirror_mode": {
    "name": "ipython",
    "version": 3
   },
   "file_extension": ".py",
   "mimetype": "text/x-python",
   "name": "python",
   "nbconvert_exporter": "python",
   "pygments_lexer": "ipython3",
   "version": "3.9.7"
  },
  "vscode": {
   "interpreter": {
    "hash": "b3a8d9a5de16424ff52f6b2b26e9f4396b9658d0b6d3b36a1037f00c6725d494"
   }
  }
 },
 "nbformat": 4,
 "nbformat_minor": 0
}
